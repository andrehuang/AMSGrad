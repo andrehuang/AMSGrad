{
 "cells": [
  {
   "cell_type": "code",
   "execution_count": 1,
   "metadata": {},
   "outputs": [],
   "source": [
    "from __future__ import print_function\n",
    "\n",
    "import tensorflow as tf\n",
    "\n",
    "import optimizers\n",
    "import util\n",
    "\n",
    "LR = 1e-1\n",
    "N_STEPS = 5000\n",
    "REPORT_STEPS = 100\n",
    "RAND_SEED = 100\n"
   ]
  },
  {
   "cell_type": "code",
   "execution_count": 2,
   "metadata": {},
   "outputs": [],
   "source": [
    "class Toy_model():\n",
    "    def __init__(self, name, seed=None):\n",
    "        self.name = name\n",
    "        with tf.name_scope('Toy_model'):\n",
    "            self.a = tf.placeholder(tf.float32)\n",
    "            self.x = tf.Variable(tf.random_uniform([1], minval=-1., \n",
    "                                                   maxval=1., seed=seed))\n",
    "            self.loss = self.a * self.x"
   ]
  },
  {
   "cell_type": "code",
   "execution_count": 3,
   "metadata": {},
   "outputs": [
    {
     "name": "stdout",
     "output_type": "stream",
     "text": [
      "step 0, ADAM, x: 1.02\n",
      "step 0, AMS, x: 1.02\n",
      "step 100, ADAM, x: 1.14\n",
      "step 100, AMS, x: 1.13\n",
      "step 200, ADAM, x: 1.26\n",
      "step 200, AMS, x: 1.22\n",
      "step 300, ADAM, x: 1.33\n",
      "step 300, AMS, x: 1.27\n",
      "step 400, ADAM, x: 1.37\n",
      "step 400, AMS, x: 1.3\n",
      "step 500, ADAM, x: 1.41\n",
      "step 500, AMS, x: 1.32\n",
      "step 600, ADAM, x: 1.43\n",
      "step 600, AMS, x: 1.32\n",
      "step 700, ADAM, x: 1.45\n",
      "step 700, AMS, x: 1.33\n",
      "step 800, ADAM, x: 1.47\n",
      "step 800, AMS, x: 1.32\n",
      "step 900, ADAM, x: 1.49\n",
      "step 900, AMS, x: 1.32\n",
      "step 1000, ADAM, x: 1.5\n",
      "step 1000, AMS, x: 1.31\n",
      "step 1100, ADAM, x: 1.51\n",
      "step 1100, AMS, x: 1.31\n",
      "step 1200, ADAM, x: 1.52\n",
      "step 1200, AMS, x: 1.3\n",
      "step 1300, ADAM, x: 1.53\n",
      "step 1300, AMS, x: 1.28\n",
      "step 1400, ADAM, x: 1.54\n",
      "step 1400, AMS, x: 1.27\n",
      "step 1500, ADAM, x: 1.54\n",
      "step 1500, AMS, x: 1.26\n",
      "step 1600, ADAM, x: 1.55\n",
      "step 1600, AMS, x: 1.24\n",
      "step 1700, ADAM, x: 1.55\n",
      "step 1700, AMS, x: 1.23\n",
      "step 1800, ADAM, x: 1.56\n",
      "step 1800, AMS, x: 1.22\n",
      "step 1900, ADAM, x: 1.56\n",
      "step 1900, AMS, x: 1.2\n",
      "step 2000, ADAM, x: 1.57\n",
      "step 2000, AMS, x: 1.18\n",
      "step 2100, ADAM, x: 1.57\n",
      "step 2100, AMS, x: 1.17\n",
      "step 2200, ADAM, x: 1.57\n",
      "step 2200, AMS, x: 1.15\n",
      "step 2300, ADAM, x: 1.58\n",
      "step 2300, AMS, x: 1.13\n",
      "step 2400, ADAM, x: 1.58\n",
      "step 2400, AMS, x: 1.12\n",
      "step 2500, ADAM, x: 1.58\n",
      "step 2500, AMS, x: 1.1\n",
      "step 2600, ADAM, x: 1.58\n",
      "step 2600, AMS, x: 1.08\n",
      "step 2700, ADAM, x: 1.59\n",
      "step 2700, AMS, x: 1.06\n",
      "step 2800, ADAM, x: 1.59\n",
      "step 2800, AMS, x: 1.05\n",
      "step 2900, ADAM, x: 1.59\n",
      "step 2900, AMS, x: 1.03\n",
      "step 3000, ADAM, x: 1.59\n",
      "step 3000, AMS, x: 1.01\n",
      "step 3100, ADAM, x: 1.59\n",
      "step 3100, AMS, x: 0.992\n",
      "step 3200, ADAM, x: 1.59\n",
      "step 3200, AMS, x: 0.973\n",
      "step 3300, ADAM, x: 1.59\n",
      "step 3300, AMS, x: 0.955\n",
      "step 3400, ADAM, x: 1.6\n",
      "step 3400, AMS, x: 0.936\n",
      "step 3500, ADAM, x: 1.6\n",
      "step 3500, AMS, x: 0.918\n",
      "step 3600, ADAM, x: 1.6\n",
      "step 3600, AMS, x: 0.899\n",
      "step 3700, ADAM, x: 1.6\n",
      "step 3700, AMS, x: 0.88\n",
      "step 3800, ADAM, x: 1.6\n",
      "step 3800, AMS, x: 0.862\n",
      "step 3900, ADAM, x: 1.6\n",
      "step 3900, AMS, x: 0.843\n",
      "step 4000, ADAM, x: 1.6\n",
      "step 4000, AMS, x: 0.824\n",
      "step 4100, ADAM, x: 1.6\n",
      "step 4100, AMS, x: 0.805\n",
      "step 4200, ADAM, x: 1.61\n",
      "step 4200, AMS, x: 0.786\n",
      "step 4300, ADAM, x: 1.61\n",
      "step 4300, AMS, x: 0.768\n",
      "step 4400, ADAM, x: 1.61\n",
      "step 4400, AMS, x: 0.749\n",
      "step 4500, ADAM, x: 1.61\n",
      "step 4500, AMS, x: 0.73\n",
      "step 4600, ADAM, x: 1.61\n",
      "step 4600, AMS, x: 0.711\n",
      "step 4700, ADAM, x: 1.61\n",
      "step 4700, AMS, x: 0.692\n",
      "step 4800, ADAM, x: 1.61\n",
      "step 4800, AMS, x: 0.674\n",
      "step 4900, ADAM, x: 1.61\n",
      "step 4900, AMS, x: 0.655\n"
     ]
    }
   ],
   "source": [
    "n_models = 2\n",
    "names = ['ADAM', 'AMS']\n",
    "models = [Toy_model(names[m], RAND_SEED) for m in range(n_models)]\n",
    "train_steps = [tf.train.AdamOptimizer(LR).minimize(models[0].loss),\n",
    "               optimizers.AMSGrad(LR).minimize(models[1].loss)]\n",
    "#You can also try optimizers.Adam(LR)\n",
    "\n",
    "x_vals = [[] for m in range(n_models)]\n",
    "with tf.Session() as sess:\n",
    "    sess.run(tf.global_variables_initializer())\n",
    "    for step in range(N_STEPS):\n",
    "        a_val = 1010 if step % 101 == 1 else -10\n",
    "        for m in range(n_models):\n",
    "            sess.run(train_steps[m], feed_dict={models[m].a: a_val})\n",
    "            if step % REPORT_STEPS == 0:\n",
    "                x_val = sess.run(models[m].x, feed_dict={models[m].a: a_val})\n",
    "                print('step %d, %s, x: %.3g' % (step, models[m].name, x_val))\n",
    "                x_vals[m].append(x_val[0])\n"
   ]
  },
  {
   "cell_type": "code",
   "execution_count": 4,
   "metadata": {
    "scrolled": false
   },
   "outputs": [
    {
     "data": {
      "image/png": "[encoded data removed]",
      "text/plain": [
       "<matplotlib.figure.Figure at 0x7f0cc3728590>"
      ]
     },
     "metadata": {},
     "output_type": "display_data"
    }
   ],
   "source": [
    "util.plot_results(x_vals, names, 'x_val')"
   ]
  }
 ],
 "metadata": {
  "kernelspec": {
   "display_name": "Python [conda env:tf14]",
   "language": "python",
   "name": "conda-env-tf14-py"
  },
  "language_info": {
   "codemirror_mode": {
    "name": "ipython",
    "version": 2
   },
   "file_extension": ".py",
   "mimetype": "text/x-python",
   "name": "python",
   "nbconvert_exporter": "python",
   "pygments_lexer": "ipython2",
   "version": "2.7.14"
  }
 },
 "nbformat": 4,
 "nbformat_minor": 2
}
