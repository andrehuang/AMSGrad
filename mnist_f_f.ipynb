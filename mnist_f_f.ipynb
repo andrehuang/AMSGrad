{
 "cells": [
  {
   "cell_type": "markdown",
   "metadata": {},
   "source": [
    "This script tries to replicate the MNIST results in the paper."
   ]
  },
  {
   "cell_type": "code",
   "execution_count": 1,
   "metadata": {},
   "outputs": [
    {
     "name": "stdout",
     "output_type": "stream",
     "text": [
      "Extracting MNIST_data/train-images-idx3-ubyte.gz\n",
      "Extracting MNIST_data/train-labels-idx1-ubyte.gz\n",
      "Extracting MNIST_data/t10k-images-idx3-ubyte.gz\n",
      "Extracting MNIST_data/t10k-labels-idx1-ubyte.gz\n"
     ]
    }
   ],
   "source": [
    "from __future__ import print_function\n",
    "\n",
    "import tensorflow as tf\n",
    "from math import sqrt\n",
    "\n",
    "from tensorflow.examples.tutorials.mnist import input_data\n",
    "\n",
    "import optimizers\n",
    "import util\n",
    "\n",
    "BATCH_SIZE = 128\n",
    "LR = 1e-5\n",
    "N_STEPS = 50000\n",
    "REPORT_STEPS = 1000\n",
    "RAND_SEED = 100\n",
    "\n",
    "mnist = input_data.read_data_sets(\"MNIST_data/\", one_hot=True)"
   ]
  },
  {
   "cell_type": "code",
   "execution_count": 2,
   "metadata": {},
   "outputs": [],
   "source": [
    "class Mnist_model():\n",
    "  def __init__(self, seed=None):\n",
    "    with tf.name_scope('mnist_model'):\n",
    "      self.images = tf.placeholder(tf.float32, [None, 784])\n",
    "      self.labels = tf.placeholder(tf.float32, [None, 10])\n",
    "\n",
    "      with tf.name_scope('fc1'):\n",
    "        W_fc1 = tf.Variable(tf.truncated_normal([784, 100], stddev=1.0/sqrt(784), seed=seed))\n",
    "        b_fc1 = tf.Variable(tf.truncated_normal([100], stddev=0.1, seed=seed))\n",
    "        h_fc1 = tf.nn.relu(tf.matmul(self.images, W_fc1) + b_fc1)\n",
    "      with tf.name_scope('fc2'):\n",
    "        W_fc2 = tf.Variable(tf.truncated_normal([100, 10], stddev=1.0/sqrt(100), seed=seed))\n",
    "        b_fc2 = tf.Variable(tf.truncated_normal([10], stddev=0.1, seed=seed))\n",
    "        logits = tf.matmul(h_fc1, W_fc2) + b_fc2\n",
    "\n",
    "      self.logits = logits\n",
    "      self.preds = tf.nn.softmax(logits)\n",
    "      KL_div = tf.nn.softmax_cross_entropy_with_logits(labels=self.labels,\n",
    "                                                       logits=logits)\n",
    "      self.loss = tf.reduce_mean(KL_div)\n",
    "      correct_prediction = tf.equal(tf.argmax(logits, 1), tf.argmax(self.labels, 1))\n",
    "      correct_prediction = tf.cast(correct_prediction, tf.float32)\n",
    "      self.acc = tf.reduce_mean(correct_prediction)\n",
    "    "
   ]
  },
  {
   "cell_type": "code",
   "execution_count": 3,
   "metadata": {
    "scrolled": true
   },
   "outputs": [
    {
     "name": "stdout",
     "output_type": "stream",
     "text": [
      "step 0, ADAM, train loss 2.36; test acc 0.1121\n",
      "step 0, AMS, train loss 2.36; test acc 0.1121\n",
      "step 1000, ADAM, train loss 1.58; test acc 0.7034\n",
      "step 1000, AMS, train loss 1.58; test acc 0.7033\n",
      "step 2000, ADAM, train loss 1.15; test acc 0.8255\n",
      "step 2000, AMS, train loss 1.16; test acc 0.8248\n",
      "step 3000, ADAM, train loss 0.759; test acc 0.8562\n",
      "step 3000, AMS, train loss 0.772; test acc 0.8558\n",
      "step 4000, ADAM, train loss 0.635; test acc 0.8705\n",
      "step 4000, AMS, train loss 0.656; test acc 0.8699\n",
      "step 5000, ADAM, train loss 0.661; test acc 0.8809\n",
      "step 5000, AMS, train loss 0.689; test acc 0.8789\n",
      "step 6000, ADAM, train loss 0.387; test acc 0.8895\n",
      "step 6000, AMS, train loss 0.426; test acc 0.8864\n",
      "step 7000, ADAM, train loss 0.402; test acc 0.8955\n",
      "step 7000, AMS, train loss 0.443; test acc 0.8918\n",
      "step 8000, ADAM, train loss 0.324; test acc 0.899\n",
      "step 8000, AMS, train loss 0.367; test acc 0.8953\n",
      "step 9000, ADAM, train loss 0.374; test acc 0.9036\n",
      "step 9000, AMS, train loss 0.419; test acc 0.8992\n",
      "step 10000, ADAM, train loss 0.41; test acc 0.9072\n",
      "step 10000, AMS, train loss 0.448; test acc 0.9025\n",
      "step 11000, ADAM, train loss 0.272; test acc 0.9094\n",
      "step 11000, AMS, train loss 0.316; test acc 0.9051\n",
      "step 12000, ADAM, train loss 0.483; test acc 0.9111\n",
      "step 12000, AMS, train loss 0.52; test acc 0.9066\n",
      "step 13000, ADAM, train loss 0.348; test acc 0.9128\n",
      "step 13000, AMS, train loss 0.39; test acc 0.9082\n",
      "step 14000, ADAM, train loss 0.404; test acc 0.9151\n",
      "step 14000, AMS, train loss 0.441; test acc 0.9101\n",
      "step 15000, ADAM, train loss 0.338; test acc 0.9168\n",
      "step 15000, AMS, train loss 0.381; test acc 0.9116\n",
      "step 16000, ADAM, train loss 0.508; test acc 0.9178\n",
      "step 16000, AMS, train loss 0.532; test acc 0.9128\n",
      "step 17000, ADAM, train loss 0.312; test acc 0.9189\n",
      "step 17000, AMS, train loss 0.351; test acc 0.9138\n",
      "step 18000, ADAM, train loss 0.393; test acc 0.9204\n",
      "step 18000, AMS, train loss 0.42; test acc 0.9152\n",
      "step 19000, ADAM, train loss 0.313; test acc 0.9223\n",
      "step 19000, AMS, train loss 0.346; test acc 0.9159\n",
      "step 20000, ADAM, train loss 0.373; test acc 0.9228\n",
      "step 20000, AMS, train loss 0.42; test acc 0.9168\n",
      "step 21000, ADAM, train loss 0.263; test acc 0.9232\n",
      "step 21000, AMS, train loss 0.301; test acc 0.9181\n",
      "step 22000, ADAM, train loss 0.456; test acc 0.9242\n",
      "step 22000, AMS, train loss 0.478; test acc 0.9193\n",
      "step 23000, ADAM, train loss 0.23; test acc 0.9258\n",
      "step 23000, AMS, train loss 0.264; test acc 0.92\n",
      "step 24000, ADAM, train loss 0.284; test acc 0.9264\n",
      "step 24000, AMS, train loss 0.314; test acc 0.9212\n",
      "step 25000, ADAM, train loss 0.247; test acc 0.9272\n",
      "step 25000, AMS, train loss 0.284; test acc 0.922\n",
      "step 26000, ADAM, train loss 0.3; test acc 0.9278\n",
      "step 26000, AMS, train loss 0.337; test acc 0.9227\n",
      "step 27000, ADAM, train loss 0.25; test acc 0.929\n",
      "step 27000, AMS, train loss 0.285; test acc 0.9231\n",
      "step 28000, ADAM, train loss 0.205; test acc 0.9296\n",
      "step 28000, AMS, train loss 0.237; test acc 0.924\n",
      "step 29000, ADAM, train loss 0.184; test acc 0.931\n",
      "step 29000, AMS, train loss 0.226; test acc 0.9243\n",
      "step 30000, ADAM, train loss 0.136; test acc 0.9318\n",
      "step 30000, AMS, train loss 0.17; test acc 0.9248\n",
      "step 31000, ADAM, train loss 0.146; test acc 0.9331\n",
      "step 31000, AMS, train loss 0.174; test acc 0.926\n",
      "step 32000, ADAM, train loss 0.234; test acc 0.9339\n",
      "step 32000, AMS, train loss 0.272; test acc 0.9259\n",
      "step 33000, ADAM, train loss 0.388; test acc 0.9345\n",
      "step 33000, AMS, train loss 0.42; test acc 0.927\n",
      "step 34000, ADAM, train loss 0.265; test acc 0.9345\n",
      "step 34000, AMS, train loss 0.297; test acc 0.9278\n",
      "step 35000, ADAM, train loss 0.34; test acc 0.9351\n",
      "step 35000, AMS, train loss 0.365; test acc 0.9269\n",
      "step 36000, ADAM, train loss 0.243; test acc 0.9361\n",
      "step 36000, AMS, train loss 0.274; test acc 0.9283\n",
      "step 37000, ADAM, train loss 0.207; test acc 0.9364\n",
      "step 37000, AMS, train loss 0.242; test acc 0.9284\n",
      "step 38000, ADAM, train loss 0.247; test acc 0.9372\n",
      "step 38000, AMS, train loss 0.286; test acc 0.9293\n",
      "step 39000, ADAM, train loss 0.158; test acc 0.9377\n",
      "step 39000, AMS, train loss 0.196; test acc 0.9299\n",
      "step 40000, ADAM, train loss 0.229; test acc 0.9385\n",
      "step 40000, AMS, train loss 0.269; test acc 0.9309\n",
      "step 41000, ADAM, train loss 0.239; test acc 0.9396\n",
      "step 41000, AMS, train loss 0.271; test acc 0.931\n",
      "step 42000, ADAM, train loss 0.259; test acc 0.9406\n",
      "step 42000, AMS, train loss 0.297; test acc 0.9314\n",
      "step 43000, ADAM, train loss 0.15; test acc 0.9415\n",
      "step 43000, AMS, train loss 0.193; test acc 0.9323\n",
      "step 44000, ADAM, train loss 0.283; test acc 0.9418\n",
      "step 44000, AMS, train loss 0.307; test acc 0.9329\n",
      "step 45000, ADAM, train loss 0.215; test acc 0.9428\n",
      "step 45000, AMS, train loss 0.255; test acc 0.933\n",
      "step 46000, ADAM, train loss 0.259; test acc 0.9437\n",
      "step 46000, AMS, train loss 0.29; test acc 0.9335\n",
      "step 47000, ADAM, train loss 0.237; test acc 0.9442\n",
      "step 47000, AMS, train loss 0.295; test acc 0.9343\n",
      "step 48000, ADAM, train loss 0.224; test acc 0.9445\n",
      "step 48000, AMS, train loss 0.249; test acc 0.9342\n",
      "step 49000, ADAM, train loss 0.146; test acc 0.9449\n",
      "step 49000, AMS, train loss 0.182; test acc 0.9352\n"
     ]
    }
   ],
   "source": [
    "n_models = 2\n",
    "models = [Mnist_model(RAND_SEED) for _ in range(n_models)]\n",
    "names = ['ADAM', 'AMS']\n",
    "train_steps = [tf.train.AdamOptimizer(LR).minimize(models[0].loss),\n",
    "               optimizers.AMSGrad(LR).minimize(models[1].loss)]\n",
    "\n",
    "train_loss_lists = [[] for m in range(n_models)]\n",
    "test_acc_lists = [[] for m in range(n_models)]\n",
    "with tf.Session() as sess:\n",
    "  sess.run(tf.global_variables_initializer())\n",
    "  for step in range(N_STEPS):\n",
    "    batch = mnist.train.next_batch(BATCH_SIZE)\n",
    "    for m in range(n_models):\n",
    "      sess.run(train_steps[m], feed_dict={models[m].images: batch[0], \n",
    "                                          models[m].labels: batch[1]})\n",
    "      if step % REPORT_STEPS == 0:\n",
    "        tr_loss = sess.run(models[m].loss, feed_dict={models[m].images: batch[0], \n",
    "                                                      models[m].labels: batch[1]})\n",
    "        te_acc = sess.run(models[m].acc, feed_dict={models[m].images: mnist.test.images, \n",
    "                                                    models[m].labels: mnist.test.labels})\n",
    "        print('step %d, %s, train loss %.3g; test acc %.4g' % (step, names[m], tr_loss, te_acc))\n",
    "        train_loss_lists[m].append(tr_loss)\n",
    "        test_acc_lists[m].append(te_acc)\n"
   ]
  },
  {
   "cell_type": "code",
   "execution_count": 4,
   "metadata": {
    "scrolled": true
   },
   "outputs": [
    {
     "data": {
      "image/png": "[encoded data removed]",
      "text/plain": [
       "<matplotlib.figure.Figure at 0x7f72decc7a10>"
      ]
     },
     "metadata": {},
     "output_type": "display_data"
    },
    {
     "data": {
      "image/png": "[encoded data removed]",
      "text/plain": [
       "<matplotlib.figure.Figure at 0x7f72decc79d0>"
      ]
     },
     "metadata": {},
     "output_type": "display_data"
    }
   ],
   "source": [
    "util.plot_results(train_loss_lists, names, 'Training loss')\n",
    "util.plot_results(test_acc_lists, names, 'Test accuracy')"
   ]
  }
 ],
 "metadata": {
  "kernelspec": {
   "display_name": "Python [conda env:tf14]",
   "language": "python",
   "name": "conda-env-tf14-py"
  },
  "language_info": {
   "codemirror_mode": {
    "name": "ipython",
    "version": 2
   },
   "file_extension": ".py",
   "mimetype": "text/x-python",
   "name": "python",
   "nbconvert_exporter": "python",
   "pygments_lexer": "ipython2",
   "version": "2.7.14"
  }
 },
 "nbformat": 4,
 "nbformat_minor": 2
}
